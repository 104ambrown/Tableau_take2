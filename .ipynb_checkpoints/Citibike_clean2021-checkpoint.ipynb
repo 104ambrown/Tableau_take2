{
 "cells": [
  {
   "cell_type": "code",
   "execution_count": 1,
   "id": "9f9bd2dc",
   "metadata": {},
   "outputs": [
    {
     "name": "stderr",
     "output_type": "stream",
     "text": [
      "You are using version 0.14.4 of the Terality client, but version 0.14.11 is available. Consider upgrading your version to get the latest fixes and features.\n"
     ]
    }
   ],
   "source": [
    "#importing dependencies\n",
    "import glob\n",
    "import terality as pd\n",
    "import datetime as dt"
   ]
  },
  {
   "cell_type": "code",
   "execution_count": 3,
   "id": "5dc0a7c7",
   "metadata": {},
   "outputs": [
    {
     "name": "stderr",
     "output_type": "stream",
     "text": [
      "C:/Users/abrow/Desktop/EMERSON_BOOTCAMP/BOOTCAMP_AMB/Homeworks/HW13_01-29-22_Tableau_Homework/Tableau-challenge/CitiBik\n",
      "C:/Users/abrow/Desktop/EMERSON_BOOTCAMP/BOOTCAMP_AMB/Homeworks/HW13_01-29-22_Tableau_Homework/Tableau-challenge/CitiBik\n",
      "C:/Users/abrow/Desktop/EMERSON_BOOTCAMP/BOOTCAMP_AMB/Homeworks/HW13_01-29-22_Tableau_Homework/Tableau-challenge/CitiBik\n"
     ]
    }
   ],
   "source": [
    "#establishing a base path to read in all csvs\n",
    "files = glob.glob('C:/Users/abrow/Desktop/EMERSON_BOOTCAMP/BOOTCAMP_AMB/Homeworks/HW13_01-29-22_Tableau_Homework/Tableau-challenge/CitiBike_Data/2021/*.csv')\n",
    "\n",
    "#creating an empty list to store the dataframes\n",
    "frame = []\n",
    "\n",
    "#writing a simple loops of what to do with the csvs\n",
    "for file in files:\n",
    "    frame.append(pd.read_csv(file))\n",
    "\n",
    "#Concatenate dataframes into 1\n",
    "citibike2021_df = pd.concat(frame)"
   ]
  },
  {
   "cell_type": "code",
   "execution_count": 4,
   "id": "8e4b5dd7",
   "metadata": {},
   "outputs": [
    {
     "data": {
      "text/html": [
       "<div>\n",
       "<style scoped>\n",
       "    .dataframe tbody tr th:only-of-type {\n",
       "        vertical-align: middle;\n",
       "    }\n",
       "\n",
       "    .dataframe tbody tr th {\n",
       "        vertical-align: top;\n",
       "    }\n",
       "\n",
       "    .dataframe thead th {\n",
       "        text-align: right;\n",
       "    }\n",
       "</style>\n",
       "<table border=\"1\" class=\"dataframe\">\n",
       "  <thead>\n",
       "    <tr style=\"text-align: right;\">\n",
       "      <th></th>\n",
       "      <th>ride_id</th>\n",
       "      <th>rideable_type</th>\n",
       "      <th>started_at</th>\n",
       "      <th>ended_at</th>\n",
       "      <th>start_station_name</th>\n",
       "      <th>start_station_id</th>\n",
       "      <th>end_station_name</th>\n",
       "      <th>end_station_id</th>\n",
       "      <th>start_lat</th>\n",
       "      <th>start_lng</th>\n",
       "      <th>end_lat</th>\n",
       "      <th>end_lng</th>\n",
       "      <th>member_casual</th>\n",
       "    </tr>\n",
       "  </thead>\n",
       "  <tbody>\n",
       "    <tr>\n",
       "      <th>0</th>\n",
       "      <td>6339C86D47EC0FAB</td>\n",
       "      <td>docked_bike</td>\n",
       "      <td>2021-06-02 17:18:45</td>\n",
       "      <td>2021-06-02 17:26:17</td>\n",
       "      <td>W 51 St &amp; 6 Ave</td>\n",
       "      <td>6740.10</td>\n",
       "      <td>E 66 St &amp; Madison Ave</td>\n",
       "      <td>6969.08</td>\n",
       "      <td>40.760659</td>\n",
       "      <td>-73.980420</td>\n",
       "      <td>40.768009</td>\n",
       "      <td>-73.968453</td>\n",
       "      <td>member</td>\n",
       "    </tr>\n",
       "    <tr>\n",
       "      <th>1</th>\n",
       "      <td>CDE3C147775B4002</td>\n",
       "      <td>docked_bike</td>\n",
       "      <td>2021-06-04 21:01:46</td>\n",
       "      <td>2021-06-04 21:32:09</td>\n",
       "      <td>W 56 St &amp; 10 Ave</td>\n",
       "      <td>6955.01</td>\n",
       "      <td>E 9 St &amp; Avenue C</td>\n",
       "      <td>5616.01</td>\n",
       "      <td>40.768254</td>\n",
       "      <td>-73.988639</td>\n",
       "      <td>40.725213</td>\n",
       "      <td>-73.977688</td>\n",
       "      <td>member</td>\n",
       "    </tr>\n",
       "    <tr>\n",
       "      <th>2</th>\n",
       "      <td>D335C3F6B412B846</td>\n",
       "      <td>docked_bike</td>\n",
       "      <td>2021-06-15 16:39:36</td>\n",
       "      <td>2021-06-15 16:55:02</td>\n",
       "      <td>E 56 St &amp; Madison Ave</td>\n",
       "      <td>6732.01</td>\n",
       "      <td>E 16 St &amp; 5 Ave</td>\n",
       "      <td>6022.04</td>\n",
       "      <td>40.761573</td>\n",
       "      <td>-73.972628</td>\n",
       "      <td>40.737262</td>\n",
       "      <td>-73.992390</td>\n",
       "      <td>member</td>\n",
       "    </tr>\n",
       "    <tr>\n",
       "      <th>3</th>\n",
       "      <td>8DA6810777C89735</td>\n",
       "      <td>docked_bike</td>\n",
       "      <td>2021-06-08 11:36:40</td>\n",
       "      <td>2021-06-08 11:39:41</td>\n",
       "      <td>E 68 St &amp; 3 Ave</td>\n",
       "      <td>6896.16</td>\n",
       "      <td>1 Ave &amp; E 62 St</td>\n",
       "      <td>6753.08</td>\n",
       "      <td>40.767128</td>\n",
       "      <td>-73.962246</td>\n",
       "      <td>40.761227</td>\n",
       "      <td>-73.960940</td>\n",
       "      <td>member</td>\n",
       "    </tr>\n",
       "    <tr>\n",
       "      <th>4</th>\n",
       "      <td>62D9B66A3A1D9FDF</td>\n",
       "      <td>docked_bike</td>\n",
       "      <td>2021-06-18 12:48:43</td>\n",
       "      <td>2021-06-18 13:04:14</td>\n",
       "      <td>E 48 St &amp; 5 Ave</td>\n",
       "      <td>6626.01</td>\n",
       "      <td>W 20 St &amp; 8 Ave</td>\n",
       "      <td>6224.05</td>\n",
       "      <td>40.757245</td>\n",
       "      <td>-73.978059</td>\n",
       "      <td>40.743453</td>\n",
       "      <td>-74.000040</td>\n",
       "      <td>member</td>\n",
       "    </tr>\n",
       "  </tbody>\n",
       "</table>\n",
       "</div>"
      ],
      "text/plain": [
       "            ride_id rideable_type           started_at             ended_at  \\\n",
       "0  6339C86D47EC0FAB   docked_bike  2021-06-02 17:18:45  2021-06-02 17:26:17   \n",
       "1  CDE3C147775B4002   docked_bike  2021-06-04 21:01:46  2021-06-04 21:32:09   \n",
       "2  D335C3F6B412B846   docked_bike  2021-06-15 16:39:36  2021-06-15 16:55:02   \n",
       "3  8DA6810777C89735   docked_bike  2021-06-08 11:36:40  2021-06-08 11:39:41   \n",
       "4  62D9B66A3A1D9FDF   docked_bike  2021-06-18 12:48:43  2021-06-18 13:04:14   \n",
       "\n",
       "      start_station_name  start_station_id       end_station_name  \\\n",
       "0        W 51 St & 6 Ave           6740.10  E 66 St & Madison Ave   \n",
       "1       W 56 St & 10 Ave           6955.01      E 9 St & Avenue C   \n",
       "2  E 56 St & Madison Ave           6732.01        E 16 St & 5 Ave   \n",
       "3        E 68 St & 3 Ave           6896.16        1 Ave & E 62 St   \n",
       "4        E 48 St & 5 Ave           6626.01        W 20 St & 8 Ave   \n",
       "\n",
       "  end_station_id  start_lat  start_lng    end_lat    end_lng member_casual  \n",
       "0        6969.08  40.760659 -73.980420  40.768009 -73.968453        member  \n",
       "1        5616.01  40.768254 -73.988639  40.725213 -73.977688        member  \n",
       "2        6022.04  40.761573 -73.972628  40.737262 -73.992390        member  \n",
       "3        6753.08  40.767128 -73.962246  40.761227 -73.960940        member  \n",
       "4        6224.05  40.757245 -73.978059  40.743453 -74.000040        member  "
      ]
     },
     "execution_count": 4,
     "metadata": {},
     "output_type": "execute_result"
    }
   ],
   "source": [
    "# displaying the dataframe\n",
    "citibike2021_df.head()"
   ]
  },
  {
   "cell_type": "markdown",
   "id": "34f58f32",
   "metadata": {},
   "source": [
    "#  Dropping ride_id and rideable_type because WTF\n",
    "citibike2021_df.drop(['ride_id', 'rideable_type'])\n",
    "citibike2021_df.head()"
   ]
  },
  {
   "cell_type": "code",
   "execution_count": null,
   "id": "e293e78b",
   "metadata": {},
   "outputs": [],
   "source": [
    "# Renaming the columns to match allllllll the other years because Citibike did us DIRTY\n"
   ]
  },
  {
   "cell_type": "code",
   "execution_count": null,
   "id": "fb32ba78",
   "metadata": {},
   "outputs": [],
   "source": [
    "# Checking column data types\n",
    "citibike2021_df.dtypes"
   ]
  },
  {
   "cell_type": "code",
   "execution_count": null,
   "id": "b204e7bc",
   "metadata": {},
   "outputs": [],
   "source": [
    "citibike2021_df['starttime'] = pd.to_datetime(citibike2021_df['starttime'])\n",
    "citibike2021_df['stoptime'] = pd.to_datetime(citibike2021_df['stoptime'])"
   ]
  },
  {
   "cell_type": "code",
   "execution_count": null,
   "id": "ce26e7ff",
   "metadata": {},
   "outputs": [],
   "source": [
    "# Checking column data types to confirm conversion from object to datetime\n",
    "citibike2021_df.dtypes"
   ]
  },
  {
   "cell_type": "code",
   "execution_count": null,
   "id": "7a2f8a7d",
   "metadata": {},
   "outputs": [],
   "source": [
    "# Rounding start and stop time columns to nearest second\n",
    "citibike2021_df['starttime'] = citibike2021_df.starttime.dt.round('1s')\n",
    "citibike2021_df['stoptime'] = citibike2021_df.stoptime.dt.round('1s')"
   ]
  },
  {
   "cell_type": "code",
   "execution_count": null,
   "id": "5bca72c3",
   "metadata": {},
   "outputs": [],
   "source": [
    "# Splitting starttime and stoptime and inserting the dates and times into their own series'\n",
    "citibike2021_df['StartDate'] = pd.to_datetime(citibike2021_df['starttime']).dt.date\n",
    "citibike2021_df['StartTime'] = pd.to_datetime(citibike2021_df['starttime']).dt.time\n",
    "citibike2021_df['StopDate'] = pd.to_datetime(citibike2021_df['stoptime']).dt.date\n",
    "citibike2021_df['StopTime'] = pd.to_datetime(citibike2021_df['stoptime']).dt.time"
   ]
  },
  {
   "cell_type": "code",
   "execution_count": null,
   "id": "80683630",
   "metadata": {},
   "outputs": [],
   "source": [
    "# Writing a function to convert tripduration from seconds to hours, minutes, seconds in a new column\n",
    "def format_duration(row):\n",
    "    seconds = row.tripduration\n",
    "    minutes, seconds = divmod(seconds, 60)\n",
    "    hours, minutes = divmod(minutes, 60)\n",
    "    return '{:02d} : {:02d} : {:02d}'.format(hours, minutes, seconds)\n",
    "\n",
    "# applying the function to the dataframe\n",
    "citibike2021_df['Trip Duration'] = citibike2021_df.apply(format_duration, axis=1)\n",
    "citibike2021_df.head()"
   ]
  },
  {
   "cell_type": "code",
   "execution_count": null,
   "id": "bfaf90e3",
   "metadata": {},
   "outputs": [],
   "source": [
    "# Getting length of dataframe\n",
    "total_rows = citibike2021_df.count()\n",
    "print(total_rows +1)"
   ]
  },
  {
   "cell_type": "code",
   "execution_count": null,
   "id": "4d5a4ecf",
   "metadata": {},
   "outputs": [],
   "source": [
    "# Exporting whole dataframe to CSVs\n",
    "citibike2021_df.to_csv_folder(path_or_buf=\"C:/Users/abrow/Desktop/EMERSON_BOOTCAMP/BOOTCAMP_AMB/Homeworks/HW13_01-29-22_Tableau_Homework/Tableau-challenge/Clean_data/Citibike_2021_clean_*.csv\",  num_files=20, index=False, header=True, encoding=\"utf-8\")"
   ]
  },
  {
   "cell_type": "code",
   "execution_count": null,
   "id": "a689199e",
   "metadata": {},
   "outputs": [],
   "source": [
    "# Extracting columns to create separate dataframes for demographics\n",
    "\n",
    "# Demographics to include: tripduration, usertype, birth year, gender, StartDate\n",
    "demographics2021 = citibike2021_df[['tripduration', 'usertype', 'birth year', 'gender', 'StartDate']].copy()\n",
    "demographics2021.head()"
   ]
  },
  {
   "cell_type": "code",
   "execution_count": null,
   "id": "5d088344",
   "metadata": {},
   "outputs": [],
   "source": [
    "# Exporting the dataframe to CSV\n",
    "demographics2021.to_csv(path_or_buf=\"C:/Users/abrow/Desktop/EMERSON_BOOTCAMP/BOOTCAMP_AMB/Homeworks/HW13_01-29-22_Tableau_Homework/Tableau-challenge/Clean_data/Demographics/demographics2021.csv\", index=False, header=True, encoding=\"utf-8\")"
   ]
  },
  {
   "cell_type": "code",
   "execution_count": null,
   "id": "a1976490",
   "metadata": {},
   "outputs": [],
   "source": [
    "# Extracting columns to create separate dataframes for trip data\n",
    "   \n",
    "# Trip Data to include tripduration, StartDate/Time, StopDate/Time, start station id/name/latitude/longitude, stop station id/name/latitude/longitude\n",
    "tripData2021 = citibike2021_df[['tripduration', 'StartDate', 'StartTime', 'start station id', 'start station name', 'start station latitude', 'start station longitude', 'StopDate', 'StopTime', 'end station id', 'end station name', 'end station latitude', 'end station longitude']].copy()\n",
    "tripData2021.head()"
   ]
  },
  {
   "cell_type": "code",
   "execution_count": null,
   "id": "32e7cf03",
   "metadata": {},
   "outputs": [],
   "source": [
    "# Exporting the dataframe to CSVs\n",
    "tripData2021.to_csv_folder(path_or_buf=\"C:/Users/abrow/Desktop/EMERSON_BOOTCAMP/BOOTCAMP_AMB/Homeworks/HW13_01-29-22_Tableau_Homework/Tableau-challenge/Clean_data/StationTripData/tripData2021_*.csv\",  num_files=4, index=False, header=True, encoding=\"utf-8\")"
   ]
  },
  {
   "cell_type": "code",
   "execution_count": null,
   "id": "46e5eb85",
   "metadata": {},
   "outputs": [],
   "source": []
  }
 ],
 "metadata": {
  "kernelspec": {
   "display_name": "Python 3",
   "language": "python",
   "name": "python3"
  },
  "language_info": {
   "codemirror_mode": {
    "name": "ipython",
    "version": 3
   },
   "file_extension": ".py",
   "mimetype": "text/x-python",
   "name": "python",
   "nbconvert_exporter": "python",
   "pygments_lexer": "ipython3",
   "version": "3.8.8"
  }
 },
 "nbformat": 4,
 "nbformat_minor": 5
}
