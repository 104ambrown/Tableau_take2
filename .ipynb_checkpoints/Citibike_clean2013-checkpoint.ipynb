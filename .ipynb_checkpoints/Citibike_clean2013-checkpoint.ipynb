{
 "cells": [
  {
   "cell_type": "code",
   "execution_count": 4,
   "id": "bf5ea89e",
   "metadata": {},
   "outputs": [],
   "source": [
    "# importing dependencies\n",
    "import pandas as pd"
   ]
  },
  {
   "cell_type": "code",
   "execution_count": 6,
   "id": "ddaf4ab6",
   "metadata": {},
   "outputs": [],
   "source": [
    "#creating a path for all the 2013 csvs\n",
    "Jun2013_df = pd.read_csv(r'C:\\Users\\abrow\\Desktop\\EMERSON_BOOTCAMP\\BOOTCAMP_AMB\\Homeworks\\HW13_01-29-22_Tableau_Homework\\CitiBike_Data\\2013-06-citibike-tripdata.csv')\n",
    "Jul2013_df = pd.read_csv(r'C:\\Users\\abrow\\Desktop\\EMERSON_BOOTCAMP\\BOOTCAMP_AMB\\Homeworks\\HW13_01-29-22_Tableau_Homework\\CitiBike_Data\\2013-07-citibike-tripdata.csv')\n",
    "Aug2013_df = pd.read_csv(r'C:\\Users\\abrow\\Desktop\\EMERSON_BOOTCAMP\\BOOTCAMP_AMB\\Homeworks\\HW13_01-29-22_Tableau_Homework\\CitiBike_Data\\2013-08-citibike-tripdata.csv')\n",
    "Sept2013_df = pd.read_csv(r'C:\\Users\\abrow\\Desktop\\EMERSON_BOOTCAMP\\BOOTCAMP_AMB\\Homeworks\\HW13_01-29-22_Tableau_Homework\\CitiBike_Data\\2013-09-citibike-tripdata.csv')\n",
    "Oct2013_df = pd.read_csv(r'C:\\Users\\abrow\\Desktop\\EMERSON_BOOTCAMP\\BOOTCAMP_AMB\\Homeworks\\HW13_01-29-22_Tableau_Homework\\CitiBike_Data\\2013-10-citibike-tripdata.csv')\n",
    "Nov2013_df = pd.read_csv(r'C:\\Users\\abrow\\Desktop\\EMERSON_BOOTCAMP\\BOOTCAMP_AMB\\Homeworks\\HW13_01-29-22_Tableau_Homework\\CitiBike_Data\\2013-11-citibike-tripdata.csv')\n",
    "Dec2013_df = pd.read_csv(r'C:\\Users\\abrow\\Desktop\\EMERSON_BOOTCAMP\\BOOTCAMP_AMB\\Homeworks\\HW13_01-29-22_Tableau_Homework\\CitiBike_Data\\2013-12-citibike-tripdata.csv')"
   ]
  },
  {
   "cell_type": "code",
   "execution_count": 11,
   "id": "e0808d4e",
   "metadata": {},
   "outputs": [],
   "source": [
    "#creating a path for all the 2014 csvs\n",
    "Jan2014_df = pd.read_csv(r'C:\\Users\\abrow\\Desktop\\EMERSON_BOOTCAMP\\BOOTCAMP_AMB\\Homeworks\\HW13_01-29-22_Tableau_Homework\\CitiBike_Data\\2014-01-citibike-tripdata.csv')\n",
    "Feb2014_df = pd.read_csv(r'C:\\Users\\abrow\\Desktop\\EMERSON_BOOTCAMP\\BOOTCAMP_AMB\\Homeworks\\HW13_01-29-22_Tableau_Homework\\CitiBike_Data\\2014-02-citibike-tripdata.csv')\n",
    "Mar2014_df = pd.read_csv(r'C:\\Users\\abrow\\Desktop\\EMERSON_BOOTCAMP\\BOOTCAMP_AMB\\Homeworks\\HW13_01-29-22_Tableau_Homework\\CitiBike_Data\\2014-03-citibike-tripdata.csv')\n",
    "Apr2014_df = pd.read_csv(r'C:\\Users\\abrow\\Desktop\\EMERSON_BOOTCAMP\\BOOTCAMP_AMB\\Homeworks\\HW13_01-29-22_Tableau_Homework\\CitiBike_Data\\2014-04-citibike-tripdata.csv')\n",
    "May2014_df =pd.read_csv(r'C:\\Users\\abrow\\Desktop\\EMERSON_BOOTCAMP\\BOOTCAMP_AMB\\Homeworks\\HW13_01-29-22_Tableau_Homework\\CitiBike_Data\\2014-05-citibike-tripdata.csv')\n",
    "Jun2014_df = pd.read_csv(r'C:\\Users\\abrow\\Desktop\\EMERSON_BOOTCAMP\\BOOTCAMP_AMB\\Homeworks\\HW13_01-29-22_Tableau_Homework\\CitiBike_Data\\2014-06-citibike-tripdata.csv')\n",
    "Jul2014_df = pd.read_csv(r'C:\\Users\\abrow\\Desktop\\EMERSON_BOOTCAMP\\BOOTCAMP_AMB\\Homeworks\\HW13_01-29-22_Tableau_Homework\\CitiBike_Data\\2014-07-citibike-tripdata.csv')\n",
    "Aug2014_df = pd.read_csv(r'C:\\Users\\abrow\\Desktop\\EMERSON_BOOTCAMP\\BOOTCAMP_AMB\\Homeworks\\HW13_01-29-22_Tableau_Homework\\CitiBike_Data\\2014-08-citibike-tripdata.csv')\n",
    "Sept2014_df = pd.read_csv(r'C:\\Users\\abrow\\Desktop\\EMERSON_BOOTCAMP\\BOOTCAMP_AMB\\Homeworks\\HW13_01-29-22_Tableau_Homework\\CitiBike_Data\\2014-09-citibike-tripdata.csv')\n",
    "Oct2014_df = pd.read_csv(r'C:\\Users\\abrow\\Desktop\\EMERSON_BOOTCAMP\\BOOTCAMP_AMB\\Homeworks\\HW13_01-29-22_Tableau_Homework\\CitiBike_Data\\201410-citibike-tripdata.csv')\n",
    "Nov2014_df = pd.read_csv(r'C:\\Users\\abrow\\Desktop\\EMERSON_BOOTCAMP\\BOOTCAMP_AMB\\Homeworks\\HW13_01-29-22_Tableau_Homework\\CitiBike_Data\\201411-citibike-tripdata.csv')\n",
    "Dec2014_df = pd.read_csv(r'C:\\Users\\abrow\\Desktop\\EMERSON_BOOTCAMP\\BOOTCAMP_AMB\\Homeworks\\HW13_01-29-22_Tableau_Homework\\CitiBike_Data\\201412-citibike-tripdata.csv')"
   ]
  },
  {
   "cell_type": "code",
   "execution_count": 12,
   "id": "27cdbcb8",
   "metadata": {},
   "outputs": [],
   "source": [
    "#creating a path for all the 2015 csvs\n",
    "Jan2014_df = pd.read_csv(r'C:\\Users\\abrow\\Desktop\\EMERSON_BOOTCAMP\\BOOTCAMP_AMB\\Homeworks\\HW13_01-29-22_Tableau_Homework\\CitiBike_Data\\201501-citibike-tripdata.csv')\n",
    "Feb2015_df = pd.read_csv(r'C:\\Users\\abrow\\Desktop\\EMERSON_BOOTCAMP\\BOOTCAMP_AMB\\Homeworks\\HW13_01-29-22_Tableau_Homework\\CitiBike_Data\\201502-citibike-tripdata.csv')\n",
    "Mar2015_df = pd.read_csv(r'C:\\Users\\abrow\\Desktop\\EMERSON_BOOTCAMP\\BOOTCAMP_AMB\\Homeworks\\HW13_01-29-22_Tableau_Homework\\CitiBike_Data\\201503-citibike-tripdata.csv')\n",
    "Apr2015_df = pd.read_csv(r'C:\\Users\\abrow\\Desktop\\EMERSON_BOOTCAMP\\BOOTCAMP_AMB\\Homeworks\\HW13_01-29-22_Tableau_Homework\\CitiBike_Data\\201504-citibike-tripdata.csv')\n",
    "May2015_df =pd.read_csv(r'C:\\Users\\abrow\\Desktop\\EMERSON_BOOTCAMP\\BOOTCAMP_AMB\\Homeworks\\HW13_01-29-22_Tableau_Homework\\CitiBike_Data\\201505-citibike-tripdata.csv')\n",
    "Jun2015_df = pd.read_csv(r'C:\\Users\\abrow\\Desktop\\EMERSON_BOOTCAMP\\BOOTCAMP_AMB\\Homeworks\\HW13_01-29-22_Tableau_Homework\\CitiBike_Data\\201506-citibike-tripdata.csv')\n",
    "Jul2015_df = pd.read_csv(r'C:\\Users\\abrow\\Desktop\\EMERSON_BOOTCAMP\\BOOTCAMP_AMB\\Homeworks\\HW13_01-29-22_Tableau_Homework\\CitiBike_Data\\201507-citibike-tripdata.csv')\n",
    "Aug2015_df = pd.read_csv(r'C:\\Users\\abrow\\Desktop\\EMERSON_BOOTCAMP\\BOOTCAMP_AMB\\Homeworks\\HW13_01-29-22_Tableau_Homework\\CitiBike_Data\\201508-citibike-tripdata.csv')\n",
    "Sept2015_df = pd.read_csv(r'C:\\Users\\abrow\\Desktop\\EMERSON_BOOTCAMP\\BOOTCAMP_AMB\\Homeworks\\HW13_01-29-22_Tableau_Homework\\CitiBike_Data\\201509-citibike-tripdata.csv')\n",
    "Oct2015_df = pd.read_csv(r'C:\\Users\\abrow\\Desktop\\EMERSON_BOOTCAMP\\BOOTCAMP_AMB\\Homeworks\\HW13_01-29-22_Tableau_Homework\\CitiBike_Data\\201510-citibike-tripdata.csv')\n",
    "Nov2015_df = pd.read_csv(r'C:\\Users\\abrow\\Desktop\\EMERSON_BOOTCAMP\\BOOTCAMP_AMB\\Homeworks\\HW13_01-29-22_Tableau_Homework\\CitiBike_Data\\201511-citibike-tripdata.csv')\n",
    "Dec2015_df = pd.read_csv(r'C:\\Users\\abrow\\Desktop\\EMERSON_BOOTCAMP\\BOOTCAMP_AMB\\Homeworks\\HW13_01-29-22_Tableau_Homework\\CitiBike_Data\\201512-citibike-tripdata.csv')"
   ]
  },
  {
   "cell_type": "code",
   "execution_count": null,
   "id": "f5fa84ae",
   "metadata": {},
   "outputs": [],
   "source": [
    "#creating a path for all the 2016 csvs\n",
    "Jan2016_df = pd.read_csv(r'C:\\Users\\abrow\\Desktop\\EMERSON_BOOTCAMP\\BOOTCAMP_AMB\\Homeworks\\HW13_01-29-22_Tableau_Homework\\CitiBike_Data\\201601-citibike-tripdata.csv')\n",
    "Feb2016_df = pd.read_csv(r'C:\\Users\\abrow\\Desktop\\EMERSON_BOOTCAMP\\BOOTCAMP_AMB\\Homeworks\\HW13_01-29-22_Tableau_Homework\\CitiBike_Data\\201602-citibike-tripdata.csv')\n",
    "Mar2016_df = pd.read_csv(r'C:\\Users\\abrow\\Desktop\\EMERSON_BOOTCAMP\\BOOTCAMP_AMB\\Homeworks\\HW13_01-29-22_Tableau_Homework\\CitiBike_Data\\201603-citibike-tripdata.csv')\n",
    "Apr2016_df = pd.read_csv(r'C:\\Users\\abrow\\Desktop\\EMERSON_BOOTCAMP\\BOOTCAMP_AMB\\Homeworks\\HW13_01-29-22_Tableau_Homework\\CitiBike_Data\\201604-citibike-tripdata.csv')\n",
    "May2016_df =pd.read_csv(r'C:\\Users\\abrow\\Desktop\\EMERSON_BOOTCAMP\\BOOTCAMP_AMB\\Homeworks\\HW13_01-29-22_Tableau_Homework\\CitiBike_Data\\201605-citibike-tripdata.csv')\n",
    "Jun2016_df = pd.read_csv(r'C:\\Users\\abrow\\Desktop\\EMERSON_BOOTCAMP\\BOOTCAMP_AMB\\Homeworks\\HW13_01-29-22_Tableau_Homework\\CitiBike_Data\\201606-citibike-tripdata.csv')\n",
    "Jul2016_df = pd.read_csv(r'C:\\Users\\abrow\\Desktop\\EMERSON_BOOTCAMP\\BOOTCAMP_AMB\\Homeworks\\HW13_01-29-22_Tableau_Homework\\CitiBike_Data\\201607-citibike-tripdata.csv')\n",
    "Aug2016_df = pd.read_csv(r'C:\\Users\\abrow\\Desktop\\EMERSON_BOOTCAMP\\BOOTCAMP_AMB\\Homeworks\\HW13_01-29-22_Tableau_Homework\\CitiBike_Data\\201608-citibike-tripdata.csv')\n",
    "Sept2016_df = pd.read_csv(r'C:\\Users\\abrow\\Desktop\\EMERSON_BOOTCAMP\\BOOTCAMP_AMB\\Homeworks\\HW13_01-29-22_Tableau_Homework\\CitiBike_Data\\201609-citibike-tripdata.csv')\n",
    "Oct2016_df = pd.read_csv(r'C:\\Users\\abrow\\Desktop\\EMERSON_BOOTCAMP\\BOOTCAMP_AMB\\Homeworks\\HW13_01-29-22_Tableau_Homework\\CitiBike_Data\\201610-citibike-tripdata.csv')\n",
    "Nov2016_df = pd.read_csv(r'C:\\Users\\abrow\\Desktop\\EMERSON_BOOTCAMP\\BOOTCAMP_AMB\\Homeworks\\HW13_01-29-22_Tableau_Homework\\CitiBike_Data\\201611-citibike-tripdata.csv')\n",
    "Dec2016_df = pd.read_csv(r'C:\\Users\\abrow\\Desktop\\EMERSON_BOOTCAMP\\BOOTCAMP_AMB\\Homeworks\\HW13_01-29-22_Tableau_Homework\\CitiBike_Data\\201612-citibike-tripdata.csv')"
   ]
  },
  {
   "cell_type": "code",
   "execution_count": null,
   "id": "d1a50828",
   "metadata": {},
   "outputs": [],
   "source": [
    "#creating a path for all the 2017 csvs\n",
    "Jan2017_df = pd.read_csv(r'C:\\Users\\abrow\\Desktop\\EMERSON_BOOTCAMP\\BOOTCAMP_AMB\\Homeworks\\HW13_01-29-22_Tableau_Homework\\CitiBike_Data\\201701-citibike-tripdata.csv')\n",
    "Feb2017_df = pd.read_csv(r'C:\\Users\\abrow\\Desktop\\EMERSON_BOOTCAMP\\BOOTCAMP_AMB\\Homeworks\\HW13_01-29-22_Tableau_Homework\\CitiBike_Data\\201702-citibike-tripdata.csv')\n",
    "Mar2017_df = pd.read_csv(r'C:\\Users\\abrow\\Desktop\\EMERSON_BOOTCAMP\\BOOTCAMP_AMB\\Homeworks\\HW13_01-29-22_Tableau_Homework\\CitiBike_Data\\201703-citibike-tripdata.csv')\n",
    "Apr2017_df = pd.read_csv(r'C:\\Users\\abrow\\Desktop\\EMERSON_BOOTCAMP\\BOOTCAMP_AMB\\Homeworks\\HW13_01-29-22_Tableau_Homework\\CitiBike_Data\\201704-citibike-tripdata.csv')\n",
    "May2017_df =pd.read_csv(r'C:\\Users\\abrow\\Desktop\\EMERSON_BOOTCAMP\\BOOTCAMP_AMB\\Homeworks\\HW13_01-29-22_Tableau_Homework\\CitiBike_Data\\201705-citibike-tripdata.csv')\n",
    "Jun2017_df = pd.read_csv(r'C:\\Users\\abrow\\Desktop\\EMERSON_BOOTCAMP\\BOOTCAMP_AMB\\Homeworks\\HW13_01-29-22_Tableau_Homework\\CitiBike_Data\\201706-citibike-tripdata.csv')\n",
    "Jul2017_df = pd.read_csv(r'C:\\Users\\abrow\\Desktop\\EMERSON_BOOTCAMP\\BOOTCAMP_AMB\\Homeworks\\HW13_01-29-22_Tableau_Homework\\CitiBike_Data\\201707-citibike-tripdata.csv')\n",
    "Aug2017_df = pd.read_csv(r'C:\\Users\\abrow\\Desktop\\EMERSON_BOOTCAMP\\BOOTCAMP_AMB\\Homeworks\\HW13_01-29-22_Tableau_Homework\\CitiBike_Data\\201708-citibike-tripdata.csv')\n",
    "Sept2017_df = pd.read_csv(r'C:\\Users\\abrow\\Desktop\\EMERSON_BOOTCAMP\\BOOTCAMP_AMB\\Homeworks\\HW13_01-29-22_Tableau_Homework\\CitiBike_Data\\201709-citibike-tripdata.csv')\n",
    "Oct2017_df = pd.read_csv(r'C:\\Users\\abrow\\Desktop\\EMERSON_BOOTCAMP\\BOOTCAMP_AMB\\Homeworks\\HW13_01-29-22_Tableau_Homework\\CitiBike_Data\\201710-citibike-tripdata.csv')\n",
    "Nov2017_df = pd.read_csv(r'C:\\Users\\abrow\\Desktop\\EMERSON_BOOTCAMP\\BOOTCAMP_AMB\\Homeworks\\HW13_01-29-22_Tableau_Homework\\CitiBike_Data\\201711-citibike-tripdata.csv')\n",
    "Dec2017_df = pd.read_csv(r'C:\\Users\\abrow\\Desktop\\EMERSON_BOOTCAMP\\BOOTCAMP_AMB\\Homeworks\\HW13_01-29-22_Tableau_Homework\\CitiBike_Data\\201712-citibike-tripdata.csv')"
   ]
  },
  {
   "cell_type": "code",
   "execution_count": null,
   "id": "836c7e26",
   "metadata": {},
   "outputs": [],
   "source": [
    "#creating a path for all the 2018 csvs\n",
    "Jan2018_df = pd.read_csv(r'C:\\Users\\abrow\\Desktop\\EMERSON_BOOTCAMP\\BOOTCAMP_AMB\\Homeworks\\HW13_01-29-22_Tableau_Homework\\CitiBike_Data\\201801-citibike-tripdata.csv')\n",
    "Feb2018_df = pd.read_csv(r'C:\\Users\\abrow\\Desktop\\EMERSON_BOOTCAMP\\BOOTCAMP_AMB\\Homeworks\\HW13_01-29-22_Tableau_Homework\\CitiBike_Data\\201802-citibike-tripdata.csv')\n",
    "Mar2018_df = pd.read_csv(r'C:\\Users\\abrow\\Desktop\\EMERSON_BOOTCAMP\\BOOTCAMP_AMB\\Homeworks\\HW13_01-29-22_Tableau_Homework\\CitiBike_Data\\201803-citibike-tripdata.csv')\n",
    "Apr2018_df = pd.read_csv(r'C:\\Users\\abrow\\Desktop\\EMERSON_BOOTCAMP\\BOOTCAMP_AMB\\Homeworks\\HW13_01-29-22_Tableau_Homework\\CitiBike_Data\\201804-citibike-tripdata.csv')\n",
    "May2018_df =pd.read_csv(r'C:\\Users\\abrow\\Desktop\\EMERSON_BOOTCAMP\\BOOTCAMP_AMB\\Homeworks\\HW13_01-29-22_Tableau_Homework\\CitiBike_Data\\201805-citibike-tripdata.csv')\n",
    "Jun2018_df = pd.read_csv(r'C:\\Users\\abrow\\Desktop\\EMERSON_BOOTCAMP\\BOOTCAMP_AMB\\Homeworks\\HW13_01-29-22_Tableau_Homework\\CitiBike_Data\\201806-citibike-tripdata.csv')\n",
    "Jul2018_df = pd.read_csv(r'C:\\Users\\abrow\\Desktop\\EMERSON_BOOTCAMP\\BOOTCAMP_AMB\\Homeworks\\HW13_01-29-22_Tableau_Homework\\CitiBike_Data\\201807-citibike-tripdata.csv')\n",
    "Aug2018_df = pd.read_csv(r'C:\\Users\\abrow\\Desktop\\EMERSON_BOOTCAMP\\BOOTCAMP_AMB\\Homeworks\\HW13_01-29-22_Tableau_Homework\\CitiBike_Data\\201808-citibike-tripdata.csv')\n",
    "Sept2018_df =pd.read_csv(r'C:\\Users\\abrow\\Desktop\\EMERSON_BOOTCAMP\\BOOTCAMP_AMB\\Homeworks\\HW13_01-29-22_Tableau_Homework\\CitiBike_Data\\201809-citibike-tripdata.csv')\n",
    "Oct2018_df = pd.read_csv(r'C:\\Users\\abrow\\Desktop\\EMERSON_BOOTCAMP\\BOOTCAMP_AMB\\Homeworks\\HW13_01-29-22_Tableau_Homework\\CitiBike_Data\\201810-citibike-tripdata.csv')\n",
    "Nov2018_df = pd.read_csv(r'C:\\Users\\abrow\\Desktop\\EMERSON_BOOTCAMP\\BOOTCAMP_AMB\\Homeworks\\HW13_01-29-22_Tableau_Homework\\CitiBike_Data\\201811-citibike-tripdata.csv')\n",
    "Dec2018_df = pd.read_csv(r'C:\\Users\\abrow\\Desktop\\EMERSON_BOOTCAMP\\BOOTCAMP_AMB\\Homeworks\\HW13_01-29-22_Tableau_Homework\\CitiBike_Data\\201812-citibike-tripdata.csv')"
   ]
  },
  {
   "cell_type": "code",
   "execution_count": null,
   "id": "b5bbeb9e",
   "metadata": {},
   "outputs": [],
   "source": [
    "#creating a path for all the 2019 csvs\n",
    "Jan2019_df = pd.read_csv(r'C:\\Users\\abrow\\Desktop\\EMERSON_BOOTCAMP\\BOOTCAMP_AMB\\Homeworks\\HW13_01-29-22_Tableau_Homework\\CitiBike_Data\\201901-citibike-tripdata.csv')\n",
    "Feb2019_df = pd.read_csv(r'C:\\Users\\abrow\\Desktop\\EMERSON_BOOTCAMP\\BOOTCAMP_AMB\\Homeworks\\HW13_01-29-22_Tableau_Homework\\CitiBike_Data\\201902-citibike-tripdata.csv')\n",
    "Mar2019_df = pd.read_csv(r'C:\\Users\\abrow\\Desktop\\EMERSON_BOOTCAMP\\BOOTCAMP_AMB\\Homeworks\\HW13_01-29-22_Tableau_Homework\\CitiBike_Data\\201903-citibike-tripdata.csv')\n",
    "Apr2019_df = pd.read_csv(r'C:\\Users\\abrow\\Desktop\\EMERSON_BOOTCAMP\\BOOTCAMP_AMB\\Homeworks\\HW13_01-29-22_Tableau_Homework\\CitiBike_Data\\201904-citibike-tripdata.csv')\n",
    "May2019_df =pd.read_csv(r'C:\\Users\\abrow\\Desktop\\EMERSON_BOOTCAMP\\BOOTCAMP_AMB\\Homeworks\\HW13_01-29-22_Tableau_Homework\\CitiBike_Data\\201905-citibike-tripdata.csv')\n",
    "Jun2019_df = pd.read_csv(r'C:\\Users\\abrow\\Desktop\\EMERSON_BOOTCAMP\\BOOTCAMP_AMB\\Homeworks\\HW13_01-29-22_Tableau_Homework\\CitiBike_Data\\201906-citibike-tripdata.csv')\n",
    "Jul2019_df = pd.read_csv(r'C:\\Users\\abrow\\Desktop\\EMERSON_BOOTCAMP\\BOOTCAMP_AMB\\Homeworks\\HW13_01-29-22_Tableau_Homework\\CitiBike_Data\\201907-citibike-tripdata.csv')\n",
    "Aug2019_df = pd.read_csv(r'C:\\Users\\abrow\\Desktop\\EMERSON_BOOTCAMP\\BOOTCAMP_AMB\\Homeworks\\HW13_01-29-22_Tableau_Homework\\CitiBike_Data\\201908-citibike-tripdata.csv')\n",
    "Sept2019_df = pd.read_csv(r'C:\\Users\\abrow\\Desktop\\EMERSON_BOOTCAMP\\BOOTCAMP_AMB\\Homeworks\\HW13_01-29-22_Tableau_Homework\\CitiBike_Data\\201909-citibike-tripdata.csv')\n",
    "Oct2019_df = pd.read_csv(r'C:\\Users\\abrow\\Desktop\\EMERSON_BOOTCAMP\\BOOTCAMP_AMB\\Homeworks\\HW13_01-29-22_Tableau_Homework\\CitiBike_Data\\201910-citibike-tripdata.csv')\n",
    "Nov2019_df = pd.read_csv(r'C:\\Users\\abrow\\Desktop\\EMERSON_BOOTCAMP\\BOOTCAMP_AMB\\Homeworks\\HW13_01-29-22_Tableau_Homework\\CitiBike_Data\\201911-citibike-tripdata.csv')\n",
    "Dec2019_df = pd.read_csv(r'C:\\Users\\abrow\\Desktop\\EMERSON_BOOTCAMP\\BOOTCAMP_AMB\\Homeworks\\HW13_01-29-22_Tableau_Homework\\CitiBike_Data\\201912citibike-tripdata.csv')"
   ]
  },
  {
   "cell_type": "code",
   "execution_count": null,
   "id": "de7609bf",
   "metadata": {},
   "outputs": [],
   "source": [
    "#creating a path for all the 2020 csvs\n",
    "Jan2020_df = pd.read_csv(r'C:\\Users\\abrow\\Desktop\\EMERSON_BOOTCAMP\\BOOTCAMP_AMB\\Homeworks\\HW13_01-29-22_Tableau_Homework\\CitiBike_Data\\202001-citibike-tripdata.csv')\n",
    "Feb2020_df = pd.read_csv(r'C:\\Users\\abrow\\Desktop\\EMERSON_BOOTCAMP\\BOOTCAMP_AMB\\Homeworks\\HW13_01-29-22_Tableau_Homework\\CitiBike_Data\\202002-citibike-tripdata.csv')\n",
    "Mar2020_df = pd.read_csv(r'C:\\Users\\abrow\\Desktop\\EMERSON_BOOTCAMP\\BOOTCAMP_AMB\\Homeworks\\HW13_01-29-22_Tableau_Homework\\CitiBike_Data\\202003-citibike-tripdata.csv')\n",
    "Apr2020_df = pd.read_csv(r'C:\\Users\\abrow\\Desktop\\EMERSON_BOOTCAMP\\BOOTCAMP_AMB\\Homeworks\\HW13_01-29-22_Tableau_Homework\\CitiBike_Data\\202004-citibike-tripdata.csv')\n",
    "May2020_df =pd.read_csv(r'C:\\Users\\abrow\\Desktop\\EMERSON_BOOTCAMP\\BOOTCAMP_AMB\\Homeworks\\HW13_01-29-22_Tableau_Homework\\CitiBike_Data\\202005-citibike-tripdata.csv')\n",
    "Jun2020_df = pd.read_csv(r'C:\\Users\\abrow\\Desktop\\EMERSON_BOOTCAMP\\BOOTCAMP_AMB\\Homeworks\\HW13_01-29-22_Tableau_Homework\\CitiBike_Data\\202006-citibike-tripdata.csv')\n",
    "Jul2020_df = pd.read_csv(r'C:\\Users\\abrow\\Desktop\\EMERSON_BOOTCAMP\\BOOTCAMP_AMB\\Homeworks\\HW13_01-29-22_Tableau_Homework\\CitiBike_Data\\202007-citibike-tripdata.csv')\n",
    "Aug2020_df = pd.read_csv(r'C:\\Users\\abrow\\Desktop\\EMERSON_BOOTCAMP\\BOOTCAMP_AMB\\Homeworks\\HW13_01-29-22_Tableau_Homework\\CitiBike_Data\\202008-citibike-tripdata.csv')\n",
    "Sept2020_df = pd.read_csv(r'C:\\Users\\abrow\\Desktop\\EMERSON_BOOTCAMP\\BOOTCAMP_AMB\\Homeworks\\HW13_01-29-22_Tableau_Homework\\CitiBike_Data\\202009-citibike-tripdata.csv')\n",
    "Oct2020_df = pd.read_csv(r'C:\\Users\\abrow\\Desktop\\EMERSON_BOOTCAMP\\BOOTCAMP_AMB\\Homeworks\\HW13_01-29-22_Tableau_Homework\\CitiBike_Data\\202010-citibike-tripdata.csv')\n",
    "Nov2020_df = pd.read_csv(r'C:\\Users\\abrow\\Desktop\\EMERSON_BOOTCAMP\\BOOTCAMP_AMB\\Homeworks\\HW13_01-29-22_Tableau_Homework\\CitiBike_Data\\202011-citibike-tripdata.csv')\n",
    "Dec2020_df = pd.read_csv(r'C:\\Users\\abrow\\Desktop\\EMERSON_BOOTCAMP\\BOOTCAMP_AMB\\Homeworks\\HW13_01-29-22_Tableau_Homework\\CitiBike_Data\\202012-citibike-tripdata.csv')"
   ]
  },
  {
   "cell_type": "code",
   "execution_count": null,
   "id": "650cac8f",
   "metadata": {},
   "outputs": [],
   "source": [
    "#creating a path for all the 2021 csvs\n",
    "Jan2021_df = pd.read_csv(r'C:\\Users\\abrow\\Desktop\\EMERSON_BOOTCAMP\\BOOTCAMP_AMB\\Homeworks\\HW13_01-29-22_Tableau_Homework\\CitiBike_Data\\202101-citibike-tripdata.csv')\n",
    "Feb2021_df = pd.read_csv(r'C:\\Users\\abrow\\Desktop\\EMERSON_BOOTCAMP\\BOOTCAMP_AMB\\Homeworks\\HW13_01-29-22_Tableau_Homework\\CitiBike_Data\\202102-citibike-tripdata.csv')\n",
    "Mar2021_df = pd.read_csv(r'C:\\Users\\abrow\\Desktop\\EMERSON_BOOTCAMP\\BOOTCAMP_AMB\\Homeworks\\HW13_01-29-22_Tableau_Homework\\CitiBike_Data\\202103-citibike-tripdata.csv')\n",
    "Apr2021_df = pd.read_csv(r'C:\\Users\\abrow\\Desktop\\EMERSON_BOOTCAMP\\BOOTCAMP_AMB\\Homeworks\\HW13_01-29-22_Tableau_Homework\\CitiBike_Data\\202104-citibike-tripdata.csv')\n",
    "May2021_df =pd.read_csv(r'C:\\Users\\abrow\\Desktop\\EMERSON_BOOTCAMP\\BOOTCAMP_AMB\\Homeworks\\HW13_01-29-22_Tableau_Homework\\CitiBike_Data\\202105-citibike-tripdata.csv')\n",
    "Jun2021_df = pd.read_csv(r'C:\\Users\\abrow\\Desktop\\EMERSON_BOOTCAMP\\BOOTCAMP_AMB\\Homeworks\\HW13_01-29-22_Tableau_Homework\\CitiBike_Data\\202106-citibike-tripdata.csv')\n",
    "Jul2021_df = pd.read_csv(r'C:\\Users\\abrow\\Desktop\\EMERSON_BOOTCAMP\\BOOTCAMP_AMB\\Homeworks\\HW13_01-29-22_Tableau_Homework\\CitiBike_Data\\202107-citibike-tripdata.csv')\n",
    "Aug2021_df = pd.read_csv(r'C:\\Users\\abrow\\Desktop\\EMERSON_BOOTCAMP\\BOOTCAMP_AMB\\Homeworks\\HW13_01-29-22_Tableau_Homework\\CitiBike_Data\\202108-citibike-tripdata.csv')\n",
    "Sept202121_df = pd.read_csv(r'C:\\Users\\abrow\\Desktop\\EMERSON_BOOTCAMP\\BOOTCAMP_AMB\\Homeworks\\HW13_01-29-22_Tableau_Homework\\CitiBike_Data\\202109-citibike-tripdata.csv')\n",
    "Oct2021_df = pd.read_csv(r'C:\\Users\\abrow\\Desktop\\EMERSON_BOOTCAMP\\BOOTCAMP_AMB\\Homeworks\\HW13_01-29-22_Tableau_Homework\\CitiBike_Data\\202110-citibike-tripdata.csv')\n",
    "Nov2021_df = pd.read_csv(r'C:\\Users\\abrow\\Desktop\\EMERSON_BOOTCAMP\\BOOTCAMP_AMB\\Homeworks\\HW13_01-29-22_Tableau_Homework\\CitiBike_Data\\202111-citibike-tripdata.csv')\n",
    "Dec2021_df = pd.read_csv(r'C:\\Users\\abrow\\Desktop\\EMERSON_BOOTCAMP\\BOOTCAMP_AMB\\Homeworks\\HW13_01-29-22_Tableau_Homework\\CitiBike_Data\\202112-citibike-tripdata.csv')"
   ]
  },
  {
   "cell_type": "code",
   "execution_count": null,
   "id": "44a25861",
   "metadata": {},
   "outputs": [],
   "source": []
  },
  {
   "cell_type": "code",
   "execution_count": null,
   "id": "066ff6f6",
   "metadata": {},
   "outputs": [],
   "source": []
  }
 ],
 "metadata": {
  "kernelspec": {
   "display_name": "Python 3",
   "language": "python",
   "name": "python3"
  },
  "language_info": {
   "codemirror_mode": {
    "name": "ipython",
    "version": 3
   },
   "file_extension": ".py",
   "mimetype": "text/x-python",
   "name": "python",
   "nbconvert_exporter": "python",
   "pygments_lexer": "ipython3",
   "version": "3.8.8"
  }
 },
 "nbformat": 4,
 "nbformat_minor": 5
}
